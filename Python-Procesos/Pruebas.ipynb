{
 "cells": [
  {
   "cell_type": "code",
   "execution_count": 1,
   "metadata": {},
   "outputs": [],
   "source": [
    "import tweepy\n",
    "import time\n",
    "import pandas as pd"
   ]
  },
  {
   "cell_type": "code",
   "execution_count": 2,
   "metadata": {},
   "outputs": [],
   "source": [
    "\"\"\"Developer keys\"\"\"\n",
    "consumer_key =\"52iieJ19sm006Iiwn7RWdYkyO\"\n",
    "consumer_secret = \"kmlx6ExcAVmSGyzTHtHfEdlUF6QpKfo2Bc3OasfZ60wQ0V5eRi\"\n",
    "access_token= \"1526207055807320066-BKtAD7Q182AinmU2aZkOmzMM0vNFuk\"\n",
    "access_token_secret = \"bG93PUgvMi9HHo30d0BbINEZEBBygsDPQehbDxe38vo3v\""
   ]
  },
  {
   "cell_type": "code",
   "execution_count": 3,
   "metadata": {},
   "outputs": [],
   "source": [
    "\n",
    "auth = tweepy.OAuth1UserHandler(\n",
    "   consumer_key, consumer_secret, access_token, access_token_secret\n",
    ")"
   ]
  },
  {
   "cell_type": "code",
   "execution_count": 4,
   "metadata": {},
   "outputs": [
    {
     "name": "stdout",
     "output_type": "stream",
     "text": [
      "🐋 Un grupo de buzos liberaron una ballena jorobada de una red de pesca ilegal. Mira las imágenes del rescate en est… https://t.co/6eEkvbRVof\n",
      "#ELUNIVERSOMundial  Francisco Molestina recorrió las plazas de Doha, capital de #Qatar, para conocer más sobre el p… https://t.co/kebrSVhTZ1\n",
      "Todos los niños asesinados por un adolescente en la escuela de Texas eran compañeros de una misma clase, tenían ent… https://t.co/R1XOmctvlL\n",
      "#Asamblea | \"Si quieren botarle a Guadalupe Llori, procedan\", desafía el coordinador del bloque de Pachakutik, Salv… https://t.co/dDnWcKmyi0\n",
      "#Asamblea | La Comisión de Educación defiende equiparación salarial a maestros que requerirá unos USD 650 millones… https://t.co/sW1LajO46O\n",
      "Kate Moss took the stand virtually to testify in Johnny Depp and Amber Heard's defamation trial as a witness for De… https://t.co/VkePWN4tGU\n",
      "Un bombero de Uvalde dice que tardó 30 minutos en neutralizar al atacante de la escuela\n",
      "https://t.co/WnAb90scx3\n",
      "La razón por la que algunas personas parecen inmunes a covid es una pregunta que ha persistido durante la pandemia.… https://t.co/0TaK0z787F\n",
      "Regresa a la pantalla \"Obi-Wan Kenobi\" de la serie de Star Wars https://t.co/KLwbsPg4g6\n",
      "#VamosRichie 🇪🇨 | #Carapaz sigue líder del #GiroDeItalia2022; Buitrago gana la etapa 17 🚴‍♂️ »… https://t.co/yWNywXVI8U\n",
      "This week on our Curious Universe podcast, we'll be exploring our natural satellite, the Moon.\n",
      " \n",
      "Learn more about o… https://t.co/bjEFV44C0B\n",
      "Los fideos y salsas de Oriental se venden por Amazon ► https://t.co/jIvW01VxF4 https://t.co/FEmRI9ywjB\n",
      "RT @Alfredpro: Un día como hoy, pero de 1925 nació Rosario Castellanos Figueroa. Una de las escritoras mexicanas más reconocidas a nivel in…\n",
      "A single meal forever changed Julia Child's life and American kitchens with it. The meal featured sole meunière, a… https://t.co/zdDaaLz7e3\n",
      "El padre de José Flores Jr., de 10 años, confirmó a CNN que su hijo fue identificado como una de las víctimas del t… https://t.co/MOdxHb89hQ\n",
      "“La inmovilizó en el sofá, se subió sobre ella y le levantó la camisa”: el escándalo de abusos sexuales en la Igles… https://t.co/UZLrYN5EQR\n",
      "📌 Un tiroteo en la Escuela Primaria Robb en Uvalde, Texas, dejó al menos 21 muertos, entre ellos 19 estudiantes, y… https://t.co/njjRrWx7q6\n",
      "Finalmente, la modelo Kate Moss testificó en el juicio de Johnny Depp contras su exposa Amber Heard y benefició al… https://t.co/guoNdEq8gF\n",
      "¡BRAVOOO RICHIIIEEE! #Carapaz defiende la 'maglia' rosa en esta dura etapa del #GiroDeItalia ►… https://t.co/VKIU2QK0l7\n"
     ]
    }
   ],
   "source": [
    "api = tweepy.API(auth)\n",
    "\n",
    "public_tweets = api.home_timeline()\n",
    "\n",
    "for tweet in public_tweets:\n",
    "    print(tweet.text)"
   ]
  },
  {
   "cell_type": "code",
   "execution_count": 10,
   "metadata": {},
   "outputs": [],
   "source": [
    "user = api.get_user(screen_name='@LassoGuillermo')"
   ]
  },
  {
   "cell_type": "code",
   "execution_count": 11,
   "metadata": {},
   "outputs": [
    {
     "name": "stdout",
     "output_type": "stream",
     "text": [
      "LassoGuillermo\n",
      "1132335\n",
      "BrianaVillao\n",
      "Deny21col\n",
      "CorteNacional\n",
      "CarrilloRosero\n",
      "moncaiba\n",
      "JorgeLuisF99\n",
      "XimenaGarzon11\n",
      "miintriago\n",
      "gabrielboric\n",
      "EcOpen4Business\n",
      "PedroAlavaEc\n",
      "SegcomV\n",
      "ComunicacionEc\n",
      "Sandranabiladv\n",
      "despa40\n",
      "MMontalvoEC\n",
      "mariomancino\n",
      "ARibadeneiraE\n",
      "simoncueva\n",
      "MaElenaMachucaM\n"
     ]
    }
   ],
   "source": [
    "print(user.screen_name)\n",
    "print(user.followers_count)\n",
    "for friend in user.friends():\n",
    "   print(friend.screen_name)"
   ]
  },
  {
   "cell_type": "code",
   "execution_count": 14,
   "metadata": {},
   "outputs": [
    {
     "name": "stdout",
     "output_type": "stream",
     "text": [
      "1393\n"
     ]
    }
   ],
   "source": [
    "print(user.friends_count)"
   ]
  },
  {
   "cell_type": "code",
   "execution_count": null,
   "metadata": {},
   "outputs": [],
   "source": [
    "import multiprocessing"
   ]
  }
 ],
 "metadata": {
  "interpreter": {
   "hash": "7af695820ce29192f8b02a961f78f3a069c49b39f7be3b2ab704b8f50b8ced97"
  },
  "kernelspec": {
   "display_name": "Python 3.9.7 ('base')",
   "language": "python",
   "name": "python3"
  },
  "language_info": {
   "codemirror_mode": {
    "name": "ipython",
    "version": 3
   },
   "file_extension": ".py",
   "mimetype": "text/x-python",
   "name": "python",
   "nbconvert_exporter": "python",
   "pygments_lexer": "ipython3",
   "version": "3.9.7"
  },
  "orig_nbformat": 4
 },
 "nbformat": 4,
 "nbformat_minor": 2
}
