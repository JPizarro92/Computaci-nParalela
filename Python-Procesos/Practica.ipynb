{
 "cells": [
  {
   "cell_type": "code",
   "execution_count": 1,
   "metadata": {},
   "outputs": [],
   "source": [
    "import pandas as pd"
   ]
  },
  {
   "cell_type": "code",
   "execution_count": 7,
   "metadata": {},
   "outputs": [
    {
     "name": "stdout",
     "output_type": "stream",
     "text": [
      "Número de twits:  297\n"
     ]
    }
   ],
   "source": [
    "data = pd.read_csv(\"dato.csv\", sep=\"\\n\")\n",
    "print(\"Número de twits: \",data.size)"
   ]
  },
  {
   "cell_type": "code",
   "execution_count": 8,
   "metadata": {},
   "outputs": [
    {
     "name": "stdout",
     "output_type": "stream",
     "text": [
      "    @esthercuestasan @RichardCarapazM @literatango @radiolacalle @FaustoJarrinT @jpjaramillo25 @giroditalia @virgiliohernand @RC5Oficial @RC5Europa @Italia_RC @Revolucionspana @CRCMovimientoIb Alegría que nos llena el alma a los Migrantes 🇪🇨\n",
      "0    🔥🚂🇪🇨 La 12da etapa del @giroditalia fue para l...                                                                                                                                                                                           \n",
      "1    @pedrollerenam @giroditalia @mario_sabato @Rod...                                                                                                                                                                                           \n",
      "2    Que orgullo @RichardCarapazM desde el #GiroDIt...                                                                                                                                                                                           \n",
      "3    ---&gt; La CG sigue en vigencia a @juanpelopez...                                                                                                                                                                                           \n",
      "4    @INEOSGrenadiers @RichardCarapazM @jcastroviej...                                                                                                                                                                                           \n",
      "..                                                 ...                                                                                                                                                                                           \n",
      "292  @giroditalia @RichardCarapazM @INEOSGrenadiers...                                                                                                                                                                                           \n",
      "293  @giroditalia @RichardCarapazM @INEOSGrenadiers...                                                                                                                                                                                           \n",
      "294  @giroditalia @RichardCarapazM @INEOSGrenadiers...                                                                                                                                                                                           \n",
      "295  @giroditalia @RichardCarapazM @INEOSGrenadiers...                                                                                                                                                                                           \n",
      "296  @giroditalia @RichardCarapazM @INEOSGrenadiers...                                                                                                                                                                                           \n",
      "\n",
      "[297 rows x 1 columns]\n"
     ]
    }
   ],
   "source": [
    "print(data)"
   ]
  },
  {
   "cell_type": "code",
   "execution_count": null,
   "metadata": {},
   "outputs": [],
   "source": []
  }
 ],
 "metadata": {
  "interpreter": {
   "hash": "7af695820ce29192f8b02a961f78f3a069c49b39f7be3b2ab704b8f50b8ced97"
  },
  "kernelspec": {
   "display_name": "Python 3.9.7 ('base')",
   "language": "python",
   "name": "python3"
  },
  "language_info": {
   "codemirror_mode": {
    "name": "ipython",
    "version": 3
   },
   "file_extension": ".py",
   "mimetype": "text/x-python",
   "name": "python",
   "nbconvert_exporter": "python",
   "pygments_lexer": "ipython3",
   "version": "3.9.7"
  },
  "orig_nbformat": 4
 },
 "nbformat": 4,
 "nbformat_minor": 2
}
